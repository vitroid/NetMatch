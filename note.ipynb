{
 "cells": [
  {
   "attachments": {},
   "cell_type": "markdown",
   "metadata": {},
   "source": [
    "# 解析の手順"
   ]
  },
  {
   "attachments": {},
   "cell_type": "markdown",
   "metadata": {},
   "source": [
    "LAMMPSの原子座標から、ネットワークを生成します。"
   ]
  },
  {
   "cell_type": "code",
   "execution_count": null,
   "metadata": {
    "vscode": {
     "languageId": "shellscript"
    }
   },
   "outputs": [],
   "source": [
    "./lammps2ngph.py < test.lammpstrj > test.ngph"
   ]
  },
  {
   "attachments": {},
   "cell_type": "markdown",
   "metadata": {},
   "source": [
    "ネットワークから環を抽出します。"
   ]
  },
  {
   "cell_type": "code",
   "execution_count": null,
   "metadata": {
    "vscode": {
     "languageId": "shellscript"
    }
   },
   "outputs": [],
   "source": [
    "./cycles.py < test.ngph > test.cycles.json"
   ]
  },
  {
   "attachments": {},
   "cell_type": "markdown",
   "metadata": {},
   "source": [
    "グラフのデータベース(graph.sqlite3)を準備します。これは、同じ形のグラフには同じIDが振られるようにするためです。以下のコマンドは、graph.sqlite3が存在しない時に一回だけ実行します。\n",
    "\n",
    "以下のグラフに優先的にIDが設定されます。\n",
    "* id 1: 氷Icのフラグメント $6^4$\n",
    "* id 2: 氷Ihの六角柱フラグメント $6^5$\n",
    "* id 3: Large barrelan, 五角の樽 $6^7$\n",
    "* id 4: 正十二面体 $5^{12}$\n"
   ]
  },
  {
   "cell_type": "code",
   "execution_count": null,
   "metadata": {
    "vscode": {
     "languageId": "shellscript"
    }
   },
   "outputs": [],
   "source": [
    "./prepare_db.py"
   ]
  },
  {
   "attachments": {},
   "cell_type": "markdown",
   "metadata": {},
   "source": [
    "環を組みあわせて多面体を作ります。(非常に時間かかります。近いうちにアルゴリズムを改善します)\n",
    "\n",
    "この過程で、見付かった多面体がisomorphicかどうかをチェックし、新しい多面体であればどんどんデータベースに追加します。これにより、すべてのグラフの種類に固有のIDが与えられます。"
   ]
  },
  {
   "cell_type": "code",
   "execution_count": null,
   "metadata": {
    "vscode": {
     "languageId": "shellscript"
    }
   },
   "outputs": [],
   "source": [
    "./polyhed.py < test.cycles.json > test.poly.ngph"
   ]
  },
  {
   "attachments": {},
   "cell_type": "markdown",
   "metadata": {},
   "source": [
    "このファイルの中にも、各多面体のIDが記録されているので、それを抽出し、数え、ソートすると、どの多面体か最も頻繁に生じているかがわかります。"
   ]
  },
  {
   "cell_type": "code",
   "execution_count": null,
   "metadata": {
    "vscode": {
     "languageId": "shellscript"
    }
   },
   "outputs": [
    {
     "ename": "",
     "evalue": "",
     "output_type": "error",
     "traceback": [
      "\u001b[1;31mFailed to start the Kernel. \n",
      "\u001b[1;31mspawn /Users/matto/.local/share/virtualenvs/PythonTutorials-JP2O7436/bin/python ENOENT. \n",
      "\u001b[1;31mView Jupyter <a href='command:jupyter.viewOutput'>log</a> for further details."
     ]
    }
   ],
   "source": [
    "fgrep id test.poly.ngph | sort | uniq -c | sort -n"
   ]
  },
  {
   "attachments": {},
   "cell_type": "markdown",
   "metadata": {},
   "source": [
    "```\n",
    "   2 #id 4   正12面体\n",
    "\n",
    " ...\n",
    "\n",
    " 185 #id 3   large barrelan (五角の樽。四面体クラスターの辺)\n",
    " 230 #id 24\n",
    " 272 #id 95\n",
    " 414 #id 23  *\n",
    " 488 #id 15  *\n",
    " 572 #id 6   *\n",
    " 635 #id 14  *\n",
    "1039 #id 21  Fragment B\n",
    "3147 #id 2   ice Ihの5面体 (六角柱)\n",
    "4825 #id 10  small barrelan (ice Ihの小さいほうの多面体) Fragment A\n",
    "9514 #id 1   ice Icの4面体\n",
    "```\n",
    "第一カラムが出現頻度、第3カラムがID。*がついているものは、どれも対称性の良い構造のそばで5+7欠陥が生じて乱れたもののように見える。\n",
    "\n"
   ]
  },
  {
   "attachments": {},
   "cell_type": "markdown",
   "metadata": {},
   "source": [
    "原子位置と多面体のリストを読みこみ、yaplot化します。\n",
    "* graph.sqlite3に記録されたIDを照会して、同じグラフには同じ色がつきます。\n",
    "* ID1のグラフがレイヤ1に、2のグラフがレイヤ2に表示されます。"
   ]
  },
  {
   "cell_type": "code",
   "execution_count": null,
   "metadata": {
    "vscode": {
     "languageId": "shellscript"
    }
   },
   "outputs": [
    {
     "ename": "",
     "evalue": "",
     "output_type": "error",
     "traceback": [
      "\u001b[1;31mFailed to start the Kernel. \n",
      "\u001b[1;31mspawn /Users/matto/.local/share/virtualenvs/PythonTutorials-JP2O7436/bin/python ENOENT. \n",
      "\u001b[1;31mView Jupyter <a href='command:jupyter.viewOutput'>log</a> for further details."
     ]
    }
   ],
   "source": [
    "./lammps2yap2.py test.poly.ngph < test.lammpstrj > test.poly.yap\n"
   ]
  },
  {
   "cell_type": "code",
   "execution_count": null,
   "metadata": {
    "vscode": {
     "languageId": "shellscript"
    }
   },
   "outputs": [],
   "source": []
  }
 ],
 "metadata": {
  "kernelspec": {
   "display_name": "NetMatch-zIbAaK7L",
   "language": "python",
   "name": "python3"
  },
  "language_info": {
   "name": "python",
   "version": "3.10.9"
  },
  "orig_nbformat": 4
 },
 "nbformat": 4,
 "nbformat_minor": 2
}
